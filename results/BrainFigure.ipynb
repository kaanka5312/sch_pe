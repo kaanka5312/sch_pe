{
 "cells": [
  {
   "cell_type": "code",
   "execution_count": 1,
   "id": "aba3e4b3",
   "metadata": {},
   "outputs": [],
   "source": [
    "from PIL import Image\n",
    "\n",
    "def merge_images(image_paths, output_path, orientation='horizontal'):\n",
    "    # Load all images\n",
    "    imgs = [Image.open(p) for p in image_paths]\n",
    "    \n",
    "    # Calculate total size\n",
    "    if orientation == 'horizontal':\n",
    "        total_width = sum(img.width for img in imgs)\n",
    "        max_height  = max(img.height for img in imgs)\n",
    "        merged = Image.new('RGBA', (total_width, max_height))\n",
    "        \n",
    "        # Paste one by one, shifting x‑offset\n",
    "        x_offset = 0\n",
    "        for img in imgs:\n",
    "            merged.paste(img, (x_offset, 0))\n",
    "            x_offset += img.width\n",
    "\n",
    "    else:  # vertical\n",
    "        max_width   = max(img.width for img in imgs)\n",
    "        total_height = sum(img.height for img in imgs)\n",
    "        merged = Image.new('RGBA', (max_width, total_height))\n",
    "        \n",
    "        y_offset = 0\n",
    "        for img in imgs:\n",
    "            merged.paste(img, (0, y_offset))\n",
    "            y_offset += img.height\n",
    "\n",
    "    merged.save(output_path)\n"
   ]
  },
  {
   "cell_type": "code",
   "execution_count": 4,
   "id": "42476175",
   "metadata": {},
   "outputs": [],
   "source": [
    "# Example usage:\n",
    "merge_images(\n",
    "    ['D:/SoCAT/ElifOzgeSCH/SCHdata/analysis/secondlevel/Cov_HC_oneSampleT_0030/cov_figure1.png',\n",
    "     'D:/SoCAT/ElifOzgeSCH/SCHdata/analysis/secondlevel/Cov_SZ_oneSampleT_0030/cov_sz.png', \n",
    "     'D:/SoCAT/ElifOzgeSCH/SCHdata/analysis/secondlevel/Cov_twoSampleT_0030/sz_hc_cov.png'], \n",
    "    'C:/Users/kaank/OneDrive/Belgeler/GitHub/sch_pe/results/figuresmerged_horizontal.png', \n",
    "    orientation='horizontal'\n",
    ")"
   ]
  }
 ],
 "metadata": {
  "kernelspec": {
   "display_name": "pymc_blas",
   "language": "python",
   "name": "python3"
  },
  "language_info": {
   "codemirror_mode": {
    "name": "ipython",
    "version": 3
   },
   "file_extension": ".py",
   "mimetype": "text/x-python",
   "name": "python",
   "nbconvert_exporter": "python",
   "pygments_lexer": "ipython3",
   "version": "3.13.5"
  }
 },
 "nbformat": 4,
 "nbformat_minor": 5
}
