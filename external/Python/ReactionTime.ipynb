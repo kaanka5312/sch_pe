{
 "cells": [
  {
   "cell_type": "code",
   "execution_count": 1,
   "id": "7210b2ff",
   "metadata": {},
   "outputs": [
    {
     "name": "stdout",
     "output_type": "stream",
     "text": [
      "Current working directory: C:\\Users\\kaank\\OneDrive\\Belgeler\\GitHub\\sch_pe\n"
     ]
    }
   ],
   "source": [
    "# Setting up path \n",
    "from pathlib import Path\n",
    "import os\n",
    "\n",
    "\n",
    "# --- Helper: choose between macOS-style and Windows-style roots ---\n",
    "def project_path(mac_path_str, win_path_str, linux_path_str):\n",
    "    mac_p = Path(mac_path_str)\n",
    "    win_p = Path(win_path_str)\n",
    "    linux_p = Path(linux_path_str)\n",
    "    if mac_p.exists():\n",
    "        return mac_p\n",
    "    elif win_p.exists():\n",
    "        return win_p\n",
    "    elif linux_p.exists():\n",
    "        return linux_path_str\n",
    "    else:\n",
    "        # Neither exists; return mac version but warn\n",
    "        print(f\"WARNING: Neither {mac_p} nor {win_p} exists on this system.\")\n",
    "        return mac_p\n",
    "\n",
    "\n",
    "project_path_set = project_path(\n",
    "    \"/Users/kaankeskin/projects/sch_pe/\",\n",
    "    \"C:/Users/kaank/OneDrive/Belgeler/GitHub/sch_pe/\",\n",
    "    \"/home/kaanka5312/projects/sch_pe\"\n",
    ")\n",
    "\n",
    "# Set the working directory\n",
    "os.chdir(project_path_set)\n",
    "\n",
    "# Check current working directory\n",
    "print(\"Current working directory:\", os.getcwd())"
   ]
  },
  {
   "cell_type": "code",
   "execution_count": 50,
   "id": "4cb14bdc",
   "metadata": {},
   "outputs": [],
   "source": [
    "import pandas as pd \n",
    "\n",
    "subj_list = pd.read_csv(\"./data/raw/subjects_list.csv\")\n",
    "eo_resp = pd.read_csv(\"./data/raw/response.csv\")\n",
    "a_resp = pd.read_csv(\"./data/raw/aslihanyanit.csv\")\n",
    "\n",
    "# To distinguish same subject number between aslihan and ozge \n",
    "# and matching to subject_list keys\n",
    "a_resp[\"denekId\"] = (\"100\" + a_resp[\"denekId\"].astype(str)).astype(int)\n",
    "\n"
   ]
  },
  {
   "cell_type": "code",
   "execution_count": 58,
   "id": "9da9507a",
   "metadata": {},
   "outputs": [],
   "source": [
    "eo_sz = eo_resp[\n",
    "    eo_resp['denekId'].isin(\n",
    "        subj_list.loc[ subj_list[' group']==1, ' task-id' ]\n",
    "    )\n",
    "]\n",
    "\n",
    "sz_filtered = eo_sz[\n",
    "    (eo_sz[\"secimsure\"] > 0) &\n",
    "    (eo_sz[\"secimsure\"] < 100000)\n",
    "]\n"
   ]
  },
  {
   "cell_type": "code",
   "execution_count": null,
   "id": "b1555b91",
   "metadata": {},
   "outputs": [],
   "source": [
    "eo_hc = eo_resp[\n",
    "    eo_resp['denekId'].isin(\n",
    "        subj_list.loc[ subj_list[' group']==0, ' task-id' ]\n",
    "    )\n",
    "]\n",
    "\n",
    "a_hc = a_resp[\n",
    "    a_resp['denekId'].isin(\n",
    "        subj_list.loc[ subj_list[' group']==0, ' task-id' ]\n",
    "    )\n",
    "]\n",
    "\n",
    "hc_all = pd.concat([eo_hc, a_hc])\n",
    "\n",
    "# 1) drop all rows where sayac == 0\n",
    "hc_filtered = hc_all[hc_all['sayac'] != 0]\n",
    "\n",
    "hc_filtered = hc_filtered[\n",
    "    (hc_filtered[\"secimsure\"] > 0) &\n",
    "    (hc_filtered[\"secimsure\"] < 100000)\n",
    "]\n"
   ]
  },
  {
   "cell_type": "code",
   "execution_count": 66,
   "id": "8e552cb4",
   "metadata": {},
   "outputs": [],
   "source": [
    "# clean up column names\n",
    "subj_list.columns = subj_list.columns.str.strip()\n",
    "a_resp.columns    = a_resp.columns.str.strip()\n",
    "\n",
    "# build the mask of group-0 task-IDs\n",
    "group0_ids = subj_list.loc[subj_list['group']==0, 'task-id']\n",
    "\n",
    "# select rows where denekId is NOT in that list\n",
    "a_dep = a_resp[~a_resp['denekId'].isin(group0_ids)]\n",
    "\n",
    "# 1) find all denekId’s with sayac == 59\n",
    "ids_with_59 = a_dep.loc[a_dep['sayac'] == 59, 'denekId'].unique()\n",
    "\n",
    "# 2) filter a_dep to only those IDs\n",
    "a_dep_filtered = a_dep[ a_dep['denekId'].isin(ids_with_59) ]\n",
    "\n",
    "a_dep_filtered = a_dep_filtered[\n",
    "    (a_dep_filtered[\"secimsure\"] > 0) &\n",
    "    (a_dep_filtered[\"secimsure\"] < 100000)\n",
    "]"
   ]
  },
  {
   "cell_type": "code",
   "execution_count": null,
   "id": "88758b08",
   "metadata": {},
   "outputs": [
    {
     "name": "stdout",
     "output_type": "stream",
     "text": [
      "    denekId  avg_secimsure\n",
      "0      1003     713.280702\n",
      "1      1004     778.423729\n",
      "2      1005     843.711864\n",
      "3      1007    1273.637931\n",
      "4      1008    1130.000000\n",
      "5      1009     917.250000\n",
      "6     10010     978.067797\n",
      "7     10015    1238.762712\n",
      "8     10016    1356.220000\n",
      "9     10017     708.406780\n",
      "10    10019     976.186441\n",
      "11    10020     966.879310\n",
      "12    10021     647.866667\n",
      "13    10022     592.050000\n",
      "14    10023    1134.254902\n",
      "15    10024     944.440678\n",
      "16    10025     901.166667\n",
      "17    10026    1771.355932\n",
      "18    10027    1112.283333\n",
      "19    10030     851.615385\n",
      "20    10031     778.500000\n",
      "21    10036     918.016949\n",
      "22    10038     622.928571\n",
      "23    10039     962.254237\n",
      "24    10040     648.338983\n",
      "25    10041     629.813559\n",
      "26    10044     714.933333\n",
      "27    10045     713.034483\n",
      "28    10050     789.350000\n",
      "29    10051    1016.566667\n",
      "30    10052     801.745763\n",
      "31    10053     919.084746\n",
      "32    10054    1345.881356\n",
      "33    10055     893.482759\n",
      "34    10056    1111.803571\n",
      "35    10059    1011.616667\n",
      "36    10060    1301.333333\n",
      "37    10063     661.824561\n",
      "38    10066     615.016949\n",
      "39    10068     568.083333\n",
      "40    10069     906.789474\n",
      "41    10070     836.166667\n",
      "42    10071    1551.672414\n",
      "43    10072     934.450000\n",
      "44    10074     722.864407\n",
      "45    10098     869.017241\n",
      "46   100102     740.266667\n"
     ]
    }
   ],
   "source": [
    "# 2) group by denekId and take the mean of secimsure\n",
    "hc_avg = (\n",
    "    hc_filtered\n",
    "      .groupby('denekId', as_index=False)['secimsure']\n",
    "      .mean()\n",
    "      .rename(columns={'secimsure':'avg_secimsure'})\n",
    ")\n",
    "\n",
    "# 2) group by denekId and take the mean of secimsure\n",
    "sz_avg = (\n",
    "    sz_filtered\n",
    "      .groupby('denekId', as_index=False)['secimsure']\n",
    "      .mean()\n",
    "      .rename(columns={'secimsure':'avg_secimsure'})\n",
    ")\n",
    "\n",
    "dep_avg = (\n",
    "    a_dep_filtered\n",
    "      .groupby('denekId', as_index=False)['secimsure']\n",
    "      .mean()\n",
    "      .rename(columns={'secimsure':'avg_secimsure'})\n",
    ")\n"
   ]
  },
  {
   "cell_type": "code",
   "execution_count": 68,
   "id": "704e1ac7",
   "metadata": {},
   "outputs": [
    {
     "name": "stdout",
     "output_type": "stream",
     "text": [
      "t = -0.654, p = 0.515\n"
     ]
    }
   ],
   "source": [
    "from scipy.stats import ttest_ind\n",
    "\n",
    "# extract the two series (and drop any NaNs)\n",
    "x = hc_avg['avg_secimsure']\n",
    "y = dep_avg['avg_secimsure']\n",
    "\n",
    "# perform Welch’s t-test (does NOT assume equal variances)\n",
    "t_stat, p_value = ttest_ind(x, y, equal_var=False)\n",
    "\n",
    "print(f\"t = {t_stat:.3f}, p = {p_value:.3f}\")\n"
   ]
  }
 ],
 "metadata": {
  "kernelspec": {
   "display_name": "pymc_blas",
   "language": "python",
   "name": "python3"
  },
  "language_info": {
   "codemirror_mode": {
    "name": "ipython",
    "version": 3
   },
   "file_extension": ".py",
   "mimetype": "text/x-python",
   "name": "python",
   "nbconvert_exporter": "python",
   "pygments_lexer": "ipython3",
   "version": "3.13.5"
  }
 },
 "nbformat": 4,
 "nbformat_minor": 5
}
